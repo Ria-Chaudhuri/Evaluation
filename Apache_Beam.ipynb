{
  "nbformat": 4,
  "nbformat_minor": 0,
  "metadata": {
    "colab": {
      "name": "Apache_Beam.ipynb",
      "provenance": [],
      "authorship_tag": "ABX9TyP225FrevCu7LKtfImePXQA",
      "include_colab_link": true
    },
    "kernelspec": {
      "name": "python3",
      "display_name": "Python 3"
    },
    "language_info": {
      "name": "python"
    }
  },
  "cells": [
    {
      "cell_type": "markdown",
      "metadata": {
        "id": "view-in-github",
        "colab_type": "text"
      },
      "source": [
        "<a href=\"https://colab.research.google.com/github/Ria-Chaudhuri/Evaluation/blob/main/Apache_Beam.ipynb\" target=\"_parent\"><img src=\"https://colab.research.google.com/assets/colab-badge.svg\" alt=\"Open In Colab\"/></a>"
      ]
    },
    {
      "cell_type": "markdown",
      "source": [
        "# This is an Apache Beam Pipeline to process transactions with Transformations"
      ],
      "metadata": {
        "id": "OImEpycPVmEX"
      }
    },
    {
      "cell_type": "code",
      "source": [
        "#PreReq- please install the following packages\n",
        "#!pip install apache_beam\n",
        "#!pip install apache-beam[gcp]"
      ],
      "metadata": {
        "id": "2_DqBhNZhZ67"
      },
      "execution_count": null,
      "outputs": []
    },
    {
      "cell_type": "code",
      "source": [
        "#Imported Libraries and dependencies\n",
        "import apache_beam as beam\n",
        "from apache_beam.options.pipeline_options import PipelineOptions\n",
        "from datetime import datetime\n",
        "import json\n",
        "from apache_beam.testing.test_pipeline import TestPipeline\n",
        "from apache_beam.testing.util import assert_that\n",
        "from apache_beam.testing.util import equal_to"
      ],
      "metadata": {
        "id": "_mvliy99hvUZ"
      },
      "execution_count": 1,
      "outputs": []
    },
    {
      "cell_type": "code",
      "source": [
        "#ParDo Transforms \n",
        "\n",
        "\n",
        "class TransactionAmountGreaterThan20(beam.DoFn):\n",
        "  def process(self, element):\n",
        "     if float(element[3])>20.00:\n",
        "          yield element\n",
        "\n",
        "class ConvertToDateWithTransaction(beam.DoFn):\n",
        "  def process(self, element):\n",
        "    date=datetime.strptime((element[0]), \"%Y-%m-%d %H:%M:%S %Z\").date()\n",
        "    result=[(date.strftime('%Y-%m-%d'),float(element[3]))]\n",
        "    return result\n",
        "\n",
        "#Composite Transform for allplying all the transformation\n",
        "@beam.ptransform_fn\n",
        "def TransactionsWithAllTransforms(pcoll):\n",
        "  return (\n",
        "      pcoll\n",
        "                    | 'Split the File'>>beam.Map(lambda x:x.split(\",\"))\n",
        "                    |'Transactions Greater Than 20  ' >> beam.ParDo(TransactionAmountGreaterThan20())\n",
        "                    | 'Transactions after 2010  ' >> beam.Filter(lambda record: datetime.strptime((record[0]), \"%Y-%m-%d %H:%M:%S %Z\").year >2010)\n",
        "                    | 'Convert To Date With Transactions' >> beam.ParDo(ConvertToDateWithTransaction())\n",
        "                    | 'Sum values per key' >> beam.CombinePerKey(sum)\n",
        "                    | 'FormatOutput' >> beam.Map(json.dumps)\n",
        "         )\n"
      ],
      "metadata": {
        "id": "62kzxeNcqR0q"
      },
      "execution_count": 2,
      "outputs": []
    },
    {
      "cell_type": "code",
      "source": [
        "#Running the pipeline\n",
        "pipe= beam.Pipeline()\n",
        "\n",
        "with beam.Pipeline(options=PipelineOptions()) as pipeline:\n",
        "  lines = (pipeline | 'ReadMyFile' >> beam.io.ReadFromText('gs://cloud-samples-data/bigquery/sample-transactions/transactions.csv',skip_header_lines=True)\n",
        "                    |  'Apply All the Transforms'>> TransactionsWithAllTransforms()\n",
        "                    |  'Write Output' >> beam.io.WriteToText( file_path_prefix='result.csv',header='date, total_amount')              \n",
        "                    )"
      ],
      "metadata": {
        "id": "pslWEVtfiK8h"
      },
      "execution_count": null,
      "outputs": []
    }
  ]
}